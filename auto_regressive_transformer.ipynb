{
  "cells": [
    {
      "cell_type": "code",
      "execution_count": 1,
      "metadata": {
        "colab": {
          "base_uri": "https://localhost:8080/"
        },
        "id": "F3MpP_Qm9_Se",
        "outputId": "bc6fe658-17b5-40a8-e1e5-82070af1f8cd"
      },
      "outputs": [
        {
          "output_type": "stream",
          "name": "stdout",
          "text": [
            "Collecting tiktoken\n",
            "  Downloading tiktoken-0.8.0-cp310-cp310-manylinux_2_17_x86_64.manylinux2014_x86_64.whl.metadata (6.6 kB)\n",
            "Requirement already satisfied: regex>=2022.1.18 in /usr/local/lib/python3.10/dist-packages (from tiktoken) (2024.9.11)\n",
            "Requirement already satisfied: requests>=2.26.0 in /usr/local/lib/python3.10/dist-packages (from tiktoken) (2.32.3)\n",
            "Requirement already satisfied: charset-normalizer<4,>=2 in /usr/local/lib/python3.10/dist-packages (from requests>=2.26.0->tiktoken) (3.4.0)\n",
            "Requirement already satisfied: idna<4,>=2.5 in /usr/local/lib/python3.10/dist-packages (from requests>=2.26.0->tiktoken) (3.10)\n",
            "Requirement already satisfied: urllib3<3,>=1.21.1 in /usr/local/lib/python3.10/dist-packages (from requests>=2.26.0->tiktoken) (2.2.3)\n",
            "Requirement already satisfied: certifi>=2017.4.17 in /usr/local/lib/python3.10/dist-packages (from requests>=2.26.0->tiktoken) (2024.8.30)\n",
            "Downloading tiktoken-0.8.0-cp310-cp310-manylinux_2_17_x86_64.manylinux2014_x86_64.whl (1.2 MB)\n",
            "\u001b[?25l   \u001b[90m━━━━━━━━━━━━━━━━━━━━━━━━━━━━━━━━━━━━━━━━\u001b[0m \u001b[32m0.0/1.2 MB\u001b[0m \u001b[31m?\u001b[0m eta \u001b[36m-:--:--\u001b[0m\r\u001b[2K   \u001b[91m━━━━\u001b[0m\u001b[91m╸\u001b[0m\u001b[90m━━━━━━━━━━━━━━━━━━━━━━━━━━━━━━━━━━━\u001b[0m \u001b[32m0.1/1.2 MB\u001b[0m \u001b[31m4.1 MB/s\u001b[0m eta \u001b[36m0:00:01\u001b[0m\r\u001b[2K   \u001b[91m━━━━━━━━━━━━━━━━━━━━━━━━━━━━━━━━━━━━━━━\u001b[0m\u001b[91m╸\u001b[0m \u001b[32m1.2/1.2 MB\u001b[0m \u001b[31m17.4 MB/s\u001b[0m eta \u001b[36m0:00:01\u001b[0m\r\u001b[2K   \u001b[90m━━━━━━━━━━━━━━━━━━━━━━━━━━━━━━━━━━━━━━━━\u001b[0m \u001b[32m1.2/1.2 MB\u001b[0m \u001b[31m14.5 MB/s\u001b[0m eta \u001b[36m0:00:00\u001b[0m\n",
            "\u001b[?25hInstalling collected packages: tiktoken\n",
            "Successfully installed tiktoken-0.8.0\n"
          ]
        }
      ],
      "source": [
        "import numpy as np\n",
        "import torch\n",
        "import torch.nn as nn\n",
        "from torch.nn import functional as F\n",
        "import matplotlib.pyplot as plt\n",
        "from tqdm import trange\n",
        "!pip install tiktoken\n",
        "import tiktoken"
      ]
    },
    {
      "cell_type": "code",
      "execution_count": 2,
      "metadata": {
        "id": "5hAM4O9k9_Sg"
      },
      "outputs": [],
      "source": [
        "## Initialize Hyperparameters ###\n",
        "encoding = 'char'\n",
        "batch_size = 64 # Number of independent data sequences that will be processed in parallel\n",
        "context_block_size = 256 # Length of each of data batches (maximum context length)\n",
        "embd_dim = 384 # Embedding dimension\n",
        "num_atention_heads = 8 # Number of self-attention heads\n",
        "dim_fwd_layer = 4 # Layer Dimension in Feed-Forward NN\n",
        "n_transformer_blocks = 8 # Number of transformer blocks run in sequence\n",
        "dropout_rate = 0.3 # Dropout rate for traning\n",
        "torch.manual_seed(1337)\n",
        "\n",
        "\n",
        "### Traning Parameters ###\n",
        "model_data = 'Shakespeare'\n",
        "device = 'cuda' if torch.cuda.is_available() else 'cpu' # Train model on GPU if available\n",
        "max_iters = 6000 # Traning itterations\n",
        "learning_rate = 3e-4\n",
        "eval_iters = 20 # Number of itterations used to estimate traning and validation loss\n",
        "eval_interval = 50"
      ]
    },
    {
      "cell_type": "code",
      "execution_count": 4,
      "metadata": {
        "id": "A6jkN0hAcCGO"
      },
      "outputs": [],
      "source": [
        "# Import data\n",
        "\n",
        "if(model_data == 'Shakespeare'):\n",
        "    with open('input_shakespeare.txt', 'r', encoding='utf-8') as f:text = f.read()\n",
        "elif(model_data == 'Forest Gump'):\n",
        "    with open('input_forrest_gump.txt', 'r', encoding='utf-8') as f:text = f.read()\n",
        "elif(model_data == 'Robinson Crusoe'):\n",
        "    with open('input_robinson_crusoe.txt', 'r', encoding='utf-8') as f:text = f.read()"
      ]
    },
    {
      "cell_type": "code",
      "execution_count": 5,
      "metadata": {
        "id": "K-siFAbZ9_Sg"
      },
      "outputs": [],
      "source": [
        "# Define Encoding and Deconding Functions\n",
        "\n",
        "if(encoding == 'char'):\n",
        "  # Character Encoding\n",
        "\n",
        "  # Sort all possible characters in the text\n",
        "  chars = sorted(list(set(text)))\n",
        "  vocab_size = len(chars)\n",
        "\n",
        "  # Define a mapping between intigers and characters\n",
        "  stoi = { ch:i for i,ch in enumerate(chars) }\n",
        "  itos = { i:ch for i,ch in enumerate(chars) }\n",
        "\n",
        "  # Define encoding and decoding functions\n",
        "  encode = lambda s: [stoi[c] for c in s]\n",
        "  decode = lambda l: ''.join([itos[i] for i in l])\n",
        "\n",
        "\n",
        "elif(encoding == 'gpt2'):\n",
        "  # GPT-2 Encoding\n",
        "\n",
        "  # Import GPT-2 encoding from tiktoken\n",
        "  enc = tiktoken.get_encoding(\"gpt2\")\n",
        "  vocab_size = enc.n_vocab\n",
        "\n",
        "  # Define encoding and decoding functions\n",
        "  encode = lambda text: enc.encode(text)\n",
        "  decode = lambda encoded_tokens: enc.decode(encoded_tokens)"
      ]
    },
    {
      "cell_type": "code",
      "execution_count": 6,
      "metadata": {
        "id": "Q2VIelfEcHYb"
      },
      "outputs": [],
      "source": [
        "# Define train and validation data\n",
        "\n",
        "data = torch.tensor(encode(text), dtype=torch.long)\n",
        "n = int(0.9*len(data)) # Create 90:10 train to validation data split\n",
        "train_data = data[:n]\n",
        "val_data = data[n:]"
      ]
    },
    {
      "cell_type": "code",
      "execution_count": 7,
      "metadata": {
        "id": "9SVHG_gV9_Sg"
      },
      "outputs": [],
      "source": [
        "def get_batch(split):\n",
        "    # Function for loading batches of data\n",
        "\n",
        "    # generate a small batch of data of inputs x and targets y\n",
        "    data = train_data if split == 'train' else val_data\n",
        "    ix = torch.randint(len(data) - context_block_size, (batch_size,))\n",
        "    x = torch.stack([data[i:i+context_block_size] for i in ix])\n",
        "    y = torch.stack([data[i+1:i+context_block_size+1] for i in ix])\n",
        "    x, y = x.to(device), y.to(device)\n",
        "    return x, y"
      ]
    },
    {
      "cell_type": "code",
      "execution_count": 8,
      "metadata": {
        "id": "jSH13XMu9_Sh"
      },
      "outputs": [],
      "source": [
        "class SingleHead_SelfAttention(nn.Module):\n",
        "\n",
        "    # This class is a single-head self-attention block\n",
        "    # It will be called in parallel by multi-head attention\n",
        "\n",
        "    def __init__(self, head_size):\n",
        "        super().__init__()\n",
        "\n",
        "        # Define key and query for self attention\n",
        "        self.key = nn.Linear(embd_dim, head_size, bias = False)\n",
        "        self.query = nn.Linear(embd_dim, head_size, bias = False)\n",
        "\n",
        "        # Define value function and register buffer (trill)\n",
        "        self.value = nn.Linear(embd_dim, head_size, bias = False)\n",
        "        self.register_buffer('tril', torch.tril(torch.ones(context_block_size, context_block_size)))\n",
        "\n",
        "        # Add dropout to prevent overfitting\n",
        "        self.dropout = nn.Dropout(dropout_rate)\n",
        "\n",
        "\n",
        "    def forward(self, x):\n",
        "\n",
        "        # Function will take input x of size -> (Batch Size, Time-Steps in Context, Number of Channels)\n",
        "        # Function output will have a size -> (Batch Size, Time-Steps in Context, Single Head Size)\n",
        "\n",
        "        B, T, C = x.shape\n",
        "\n",
        "        keys = self.key(x) # Compute keys\n",
        "        queries = self.query(x) # Compute query\n",
        "\n",
        "        # Compute Attention Scores (affinities)\n",
        "        attention_weights = queries @ keys.transpose(-2,-1) # (B, T, HS) @ (B, HS, T) -> (B, T, T)\n",
        "        attention_weights = attention_weights / (keys.shape[-1] ** (0.5)) # Normalize attention scores by sqrt of last key\n",
        "\n",
        "        # Mask attention scores using lower-triangular matrix and softmax\n",
        "        attention_weights = attention_weights.masked_fill(self.tril[:T, :T] == 0, float('-inf')) # Mask all values of upper triangular matrix to -inf\n",
        "        attention_weights = F.softmax(attention_weights, dim=-1) # Normalize lower triangular matrix with softmax function (uper-triangular will go to 0)\n",
        "        # Current size of attention_weights is (B, T, T)\n",
        "\n",
        "        # Apply dropout for traning\n",
        "        attention_weights = self.dropout(attention_weights)\n",
        "\n",
        "        # Perform wieghted values aggregation (allow model to learn more information and transform x to correct shape)\n",
        "        value = self.value(x) # Output of size(B, T, HS)\n",
        "\n",
        "        # Compute output of self-attention by multiplying attention_weights by aggregated values\n",
        "        output = attention_weights @ value # (B, T, HS) -> Desired output for single head of self-attention\n",
        "\n",
        "        return output"
      ]
    },
    {
      "cell_type": "code",
      "execution_count": 9,
      "metadata": {
        "id": "ftoUkg9Q9_Sh"
      },
      "outputs": [],
      "source": [
        "class MultiHeadAttention(nn.Module):\n",
        "\n",
        "    # This block is running multiple single selfattention block in parallel\n",
        "    # Function will be directly called inside the transformer block\n",
        "\n",
        "    def __init__(self, num_atention_heads, head_size):\n",
        "        super().__init__()\n",
        "\n",
        "        # Define function to run multiple self-attention heads in parallel\n",
        "        self.attention_heads = nn.ModuleList([SingleHead_SelfAttention(head_size) for _ in range(num_atention_heads)])\n",
        "\n",
        "        # Define Projection Function\n",
        "        self.projection = nn.Linear(head_size * num_atention_heads, embd_dim)\n",
        "\n",
        "        # Add dropout to prevent overfitting\n",
        "        self.dropout = nn.Dropout(dropout_rate)\n",
        "\n",
        "\n",
        "    def forward(self,x):\n",
        "\n",
        "        # Output of the block is concatenated output of all single head self-atention blocks\n",
        "        output = torch.cat([h(x) for h in self.attention_heads], dim=-1)\n",
        "\n",
        "        # Project output to number of embedding dimmensions\n",
        "        output = self.projection(output)\n",
        "\n",
        "        # Apply dropout\n",
        "        output= self.dropout(output)\n",
        "\n",
        "        return output"
      ]
    },
    {
      "cell_type": "code",
      "execution_count": 10,
      "metadata": {
        "id": "wHoDnygg9_Si"
      },
      "outputs": [],
      "source": [
        "class FeedForward_NN(nn.Module):\n",
        "\n",
        "    # Feed Forward Neural Network\n",
        "    # Network will do the computation part of the transformer block\n",
        "\n",
        "    def __init__(self, embd_dim):\n",
        "        super().__init__()\n",
        "\n",
        "        # Define a Neural Network\n",
        "        # Sequenntial Network where we have Lienar Layer, Non-Linearity, Linear Layer and Dropout\n",
        "        self.fwd_nn = nn.Sequential(\n",
        "            nn.Linear(embd_dim, dim_fwd_layer * embd_dim),\n",
        "            nn.ReLU(),\n",
        "            nn.Linear(dim_fwd_layer * embd_dim, embd_dim),\n",
        "            nn.Dropout(dropout_rate))\n",
        "\n",
        "    def forward(self, x):\n",
        "        output = self.fwd_nn(x)\n",
        "        return output"
      ]
    },
    {
      "cell_type": "code",
      "execution_count": 11,
      "metadata": {
        "id": "h4uiRa4r9_Si"
      },
      "outputs": [],
      "source": [
        "class TransformerBlock(nn.Module):\n",
        "\n",
        "    ### Transformer Block ###\n",
        "    # Function creates a single transformer block\n",
        "    # Apply multi-head attention followed by Feed-Forward NN computation\n",
        "\n",
        "    def __init__(self, embd_dim, num_atention_heads):\n",
        "\n",
        "        super().__init__()\n",
        "        head_size = embd_dim // num_atention_heads # Define size of single self-attention head\n",
        "\n",
        "        # Define Self-Attention module (Multi-Head Attention)\n",
        "        self.SelfAttention = MultiHeadAttention(num_atention_heads, head_size)\n",
        "\n",
        "        # Define Feed-Forward NN for computation\n",
        "        self.FWD_NN = FeedForward_NN(embd_dim)\n",
        "\n",
        "        # Define two Layer Norms that will be applied before attention and computation\n",
        "        self.LayerNorm_Attention = nn.LayerNorm(embd_dim)\n",
        "        self.LayerNorm_Computation = nn.LayerNorm(embd_dim)\n",
        "\n",
        "\n",
        "    def forward(self,x):\n",
        "\n",
        "        # Transformer Block will perform attention followed by computation\n",
        "\n",
        "        ### Attention ###\n",
        "\n",
        "        x = self.LayerNorm_Attention(x) # Apply Layer Norm\n",
        "        ResPath_Attention = x # Save input to create Residual Connection\n",
        "        x = self.SelfAttention(x) # Apply Attention\n",
        "        x = x + ResPath_Attention # Add Residual Connection\n",
        "\n",
        "        ### Computation ###\n",
        "\n",
        "        x = self.LayerNorm_Computation(x) # Apply Layer Norm\n",
        "        ResPath_Computation = x # Save input to create Residual Connection\n",
        "        x = self.FWD_NN(x) # Apply NN Computation\n",
        "        x = x + ResPath_Computation # Add Residual Connection\n",
        "\n",
        "        return x"
      ]
    },
    {
      "cell_type": "code",
      "execution_count": 12,
      "metadata": {
        "id": "68bY7WIV9_Sj"
      },
      "outputs": [],
      "source": [
        "class AutoRegressiveGenerativeTransformer(nn.Module):\n",
        "\n",
        "    def __init__(self):\n",
        "        super().__init__()\n",
        "\n",
        "        # Define functions for token and position embedding\n",
        "        self.token_embedding = nn.Embedding(vocab_size,embd_dim)\n",
        "        self.position_embedding = nn.Embedding(context_block_size,embd_dim)\n",
        "\n",
        "        # Sequentially run xN transformer blocks\n",
        "        self.transformers = nn.Sequential(*[TransformerBlock(embd_dim, num_atention_heads) for _ in range(n_transformer_blocks)])\n",
        "\n",
        "        # Define final Layer Norm\n",
        "        self.LayerNorm_Final = nn.LayerNorm(embd_dim)\n",
        "\n",
        "        # Define final Linear Layer (Model Head) to tranform output to vocab size dimension\n",
        "        self.ModelHead = nn.Linear(embd_dim, vocab_size)\n",
        "\n",
        "\n",
        "    # Initial weigths for the model\n",
        "    def _init_weights(self, module):\n",
        "        if isinstance(module, nn.Linear):\n",
        "            torch.nn.init.normal_(module.weight, mean=0.0, std=0.02)\n",
        "            if module.bias is not None:\n",
        "                torch.nn.init.zeros_(module.bias)\n",
        "        elif isinstance(module, nn.Embedding):\n",
        "            torch.nn.init.normal_(module.weight, mean=0.0, std=0.02)\n",
        "\n",
        "\n",
        "    def forward(self, idx, targets = None):\n",
        "        B, T = idx.shape # Get dimensions of batch\n",
        "\n",
        "        # idx and targets are having dimensions of (Batch size, context lenght) -> (B, T)\n",
        "\n",
        "        # Perform token and position embedding\n",
        "        token_embedding = self.token_embedding(idx) # Dimension (B, T, C)\n",
        "        position_embedding = self.position_embedding(torch.arange(T, device=device)) # Dimension (T, C)\n",
        "        # Construct embedded input\n",
        "        x = token_embedding + position_embedding # Dimension (B, T, C)\n",
        "        # Call Transformer Blocks\n",
        "        x = self.transformers(x) # Dimension (B, T, C)\n",
        "        # Add Final Layer Norm\n",
        "        x = self.LayerNorm_Final(x) # Dimension (B, T, C)\n",
        "        # Apply Model Head to transform output to vocab size from embd dim\n",
        "        logits = self.ModelHead(x) # Dimension (B, T, vocab size)\n",
        "\n",
        "        # Compute Loss\n",
        "        if targets is None:\n",
        "            loss = None\n",
        "        else:\n",
        "            B, T, C = logits.shape\n",
        "            logits = logits.view(B*T, C)\n",
        "            targets = targets.view(B*T)\n",
        "            loss = F.cross_entropy(logits, targets)\n",
        "\n",
        "        return logits, loss\n",
        "\n",
        "\n",
        "    def generate_tokens(self, tokens, max_new_tokens):\n",
        "      # Function to generate new tokens using auto-regressive transformer\n",
        "\n",
        "        # idx is (B, T) array, which represents current context for future predictions\n",
        "        for _ in range(max_new_tokens):\n",
        "\n",
        "            # crop tokens to the last in max tokens in a single block\n",
        "            token_cond = tokens[:, -context_block_size:]\n",
        "\n",
        "            # Predict next token\n",
        "            logits, loss = self(token_cond) # Prediction\n",
        "            logits = logits[:, -1, :] # Get only the last token in series (next token)\n",
        "            probs = F.softmax(logits, dim=-1) # Apply softmax to get probabilities of next token\n",
        "            next_token = torch.multinomial(probs, num_samples=1) # Sample from distribution of probabilities to frind next token\n",
        "\n",
        "            # Append new token to the series\n",
        "            tokens = torch.cat((tokens, next_token), dim=1) # (B, T+1)\n",
        "        return tokens\n",
        "\n",
        "\n",
        "    def train_model(self,learning_rate, max_iters, eval_interval):\n",
        "      # Function to train the auto-regressive transformer\n",
        "\n",
        "      # Print total number of model parameters\n",
        "      n_parameters = sum(p.numel() for p in self.parameters())\n",
        "      n_parameters = format(n_parameters, \",\")\n",
        "      print('### Auto-Regressive Transformer ###\\n')\n",
        "      print('Model has',n_parameters,'parameters')\n",
        "      print('Traning process initialized...\\n')\n",
        "\n",
        "      # Define ADAM optimizer\n",
        "      optimizer = torch.optim.AdamW(self.parameters(), lr=learning_rate)\n",
        "\n",
        "      # Initialize train and validation loss history lists\n",
        "      loss_train_history = []\n",
        "      loss_val_history = []\n",
        "\n",
        "      # Define traning loop\n",
        "      pbar = trange(max_iters)\n",
        "\n",
        "      for iter in pbar:\n",
        "\n",
        "        # Evaluate train and validation loss\n",
        "        if iter % eval_interval == 0 or iter == max_iters - 1:\n",
        "          xb_train, yb_train = get_batch('train') # Get batch for validation loss calculation\n",
        "          xb_val, yb_val = get_batch('val') # Get batch for validation loss calculation\n",
        "\n",
        "          with torch.no_grad():  # Compute train and validation loss w/o gradient computation\n",
        "            _, val_loss = self(xb_val, yb_val)\n",
        "            _, train_loss = self(xb_train, yb_train)\n",
        "\n",
        "          loss_train_history.append(train_loss.item()) # Append Loss Histories\n",
        "          loss_val_history.append(val_loss.item())\n",
        "          pbar.set_postfix({'Train Loss': train_loss.item(), ' Test Loss': val_loss.item()}) # Update progress bar\n",
        "\n",
        "        # Get new batch of data\n",
        "        xb, yb = get_batch('train')\n",
        "\n",
        "        # Run the optimizer for model parameters\n",
        "        logits, loss = self(xb, yb)\n",
        "        optimizer.zero_grad(set_to_none=True)\n",
        "        loss.backward()\n",
        "        optimizer.step()\n",
        "\n",
        "      return loss_train_history, loss_val_history"
      ]
    },
    {
      "cell_type": "code",
      "execution_count": 13,
      "metadata": {
        "colab": {
          "base_uri": "https://localhost:8080/"
        },
        "id": "Wcg1eFGk_asg",
        "outputId": "30e3301b-c579-4d7e-ee82-6c3086cecc08"
      },
      "outputs": [
        {
          "output_type": "stream",
          "name": "stdout",
          "text": [
            "### Auto-Regressive Transformer ###\n",
            "\n",
            "Model has 14,335,553 parameters\n",
            "Traning process initialized...\n",
            "\n"
          ]
        },
        {
          "output_type": "stream",
          "name": "stderr",
          "text": [
            "100%|██████████| 6000/6000 [17:21<00:00,  5.76it/s, Train Loss=1.07,  Test Loss=1.57]\n"
          ]
        }
      ],
      "source": [
        "model = AutoRegressiveGenerativeTransformer().to(device)\n",
        "loss_train, loss_validation = model.train_model(learning_rate, max_iters, eval_interval)"
      ]
    },
    {
      "cell_type": "code",
      "execution_count": 14,
      "metadata": {
        "colab": {
          "base_uri": "https://localhost:8080/",
          "height": 577
        },
        "id": "1d6D1KhUJY1y",
        "outputId": "447d10c5-7037-4ca8-9a0e-0eaa90f3b68c"
      },
      "outputs": [
        {
          "output_type": "display_data",
          "data": {
            "text/plain": [
              "<Figure size 1000x600 with 1 Axes>"
            ],
            "image/png": "[encoded data removed]"
          },
          "metadata": {}
        }
      ],
      "source": [
        "# Plot train and validation loss\n",
        "\n",
        "test_name = 'base'\n",
        "plot_title = r\"Model Training Loss History\"\n",
        "\n",
        "plt.rcParams.update({'font.size': 14})\n",
        "plt.rcParams['axes.linewidth']=2\n",
        "plt.figure(figsize = (10,6))\n",
        "plt.title(plot_title)\n",
        "itterations = np.linspace(0, max_iters, int(max_iters/eval_interval)+1)\n",
        "plt.plot(itterations, loss_train, lw = 2, label='Train Loss')\n",
        "plt.plot(itterations, loss_validation, 'r--', lw = 2, label='Validation Loss')\n",
        "plt.legend()\n",
        "plt.xlabel(r'Training Itteration')\n",
        "plt.ylabel(r'Loss');\n",
        "figure_name = f\"loss_history_{test_name}.pdf\"\n",
        "plt.savefig(figure_name, format=\"pdf\", bbox_inches='tight')"
      ]
    },
    {
      "cell_type": "code",
      "execution_count": 15,
      "metadata": {
        "colab": {
          "base_uri": "https://localhost:8080/"
        },
        "id": "eLud-hg0yrvJ",
        "outputId": "7bfdbd42-69bd-4f39-e944-367f25a11446"
      },
      "outputs": [
        {
          "output_type": "stream",
          "name": "stdout",
          "text": [
            "### Model Prediction ###\n",
            "\n",
            "\n",
            "even Prince of Spant, and Pierce of France,\n",
            "Smile all thy chamberlance urged saved trembles\n",
            "Would grave; with thy proper with safety;\n",
            "High threaten three flesh thy uild reout,\n",
            "And cap made a dlain o' the time and\n",
            "Give Henry gnarlory OF YORK:\n",
            "Ad never say, yonder conqueit his chamber\n",
            "May from Edward's land. The untaught on mine prince,\n",
            "Unto my minstrel lowders-hate thy complotted\n",
            "Of bapes, of the chief umpost, like a true\n",
            "Intelligence that present knawlets now thou,\n",
            "So lossly will ears the peor g\n"
          ]
        }
      ],
      "source": [
        "# Generate from the model\n",
        "context = torch.zeros((1, 1), dtype=torch.long, device=device) # Input Context for the generation\n",
        "tokens_to_predict = 500\n",
        "\n",
        "# Generate new tokens\n",
        "model_token_prediction = model.generate_tokens(context, tokens_to_predict)[0].tolist()\n",
        "text_output = decode(model_token_prediction) # Decode model prediction\n",
        "\n",
        "# Print model prediction (decoded)\n",
        "print('### Model Prediction ###\\n')\n",
        "print(text_output)"
      ]
    },
    {
      "cell_type": "code",
      "source": [
        "# Implement language tool\n",
        "\n",
        "!pip install language-tool-python\n",
        "import language_tool_python\n",
        "\n",
        "# Define the language tool\n",
        "grammar_tool = language_tool_python.LanguageTool('en-US')\n",
        "\n",
        "# Text to check\n",
        "input_text = \"AThe captanch unical survach ontor the ground.\"\n",
        "\n",
        "# Check for grammar errors\n",
        "matches = grammar_tool.check(text)\n",
        "\n",
        "# Correct the text\n",
        "corrected_text = grammar_tool.correct(input_text)\n",
        "print(\"Original Text:\", input_text)\n",
        "print(\"\\nNew Text:\", corrected_text)"
      ],
      "metadata": {
        "colab": {
          "base_uri": "https://localhost:8080/"
        },
        "id": "iCEk1rjpHewG",
        "outputId": "47ca30ae-21eb-4900-a982-b923f6ca80e7"
      },
      "execution_count": null,
      "outputs": [
        {
          "output_type": "stream",
          "name": "stdout",
          "text": [
            "Requirement already satisfied: language-tool-python in /usr/local/lib/python3.10/dist-packages (2.8.1)\n",
            "Requirement already satisfied: pip in /usr/local/lib/python3.10/dist-packages (from language-tool-python) (24.1.2)\n",
            "Requirement already satisfied: requests in /usr/local/lib/python3.10/dist-packages (from language-tool-python) (2.32.3)\n",
            "Requirement already satisfied: tqdm in /usr/local/lib/python3.10/dist-packages (from language-tool-python) (4.66.6)\n",
            "Requirement already satisfied: wheel in /usr/local/lib/python3.10/dist-packages (from language-tool-python) (0.45.1)\n",
            "Requirement already satisfied: charset-normalizer<4,>=2 in /usr/local/lib/python3.10/dist-packages (from requests->language-tool-python) (3.4.0)\n",
            "Requirement already satisfied: idna<4,>=2.5 in /usr/local/lib/python3.10/dist-packages (from requests->language-tool-python) (3.10)\n",
            "Requirement already satisfied: urllib3<3,>=1.21.1 in /usr/local/lib/python3.10/dist-packages (from requests->language-tool-python) (2.2.3)\n",
            "Requirement already satisfied: certifi>=2017.4.17 in /usr/local/lib/python3.10/dist-packages (from requests->language-tool-python) (2024.8.30)\n"
          ]
        }
      ]
    }
  ],
  "metadata": {
    "accelerator": "GPU",
    "colab": {
      "gpuType": "A100",
      "machine_shape": "hm",
      "provenance": []
    },
    "kernelspec": {
      "display_name": "Python 3",
      "name": "python3"
    },
    "language_info": {
      "name": "python"
    }
  },
  "nbformat": 4,
  "nbformat_minor": 0
}